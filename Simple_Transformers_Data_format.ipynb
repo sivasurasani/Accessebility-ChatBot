{
  "cells": [
    {
      "cell_type": "markdown",
      "metadata": {
        "colab_type": "text",
        "id": "view-in-github"
      },
      "source": [
        "<a href=\"https://colab.research.google.com/github/sivasurasani/Accessebility-ChatBot/blob/vinay-AI-Model/Simple_Transformers_Data_format.ipynb\" target=\"_parent\"><img src=\"https://colab.research.google.com/assets/colab-badge.svg\" alt=\"Open In Colab\"/></a>"
      ]
    },
    {
      "cell_type": "code",
      "execution_count": 1,
      "metadata": {
        "id": "_3FCdFTe5yEY"
      },
      "outputs": [],
      "source": [
        "import pandas as pd\n",
        "import json\n",
        "\n",
        "# Read the Excel file into a DataFrame\n",
        "df = pd.read_excel('AccessibilityChatbotData.xlsx')"
      ]
    },
    {
      "cell_type": "code",
      "execution_count": 2,
      "metadata": {
        "id": "uD7PCODr2MWB"
      },
      "outputs": [],
      "source": [
        "column_to_json_key_mapping = {\n",
        "    'Description': 'context1',\n",
        "    'Sub Headings Description': 'context2',\n",
        "    'Questions': 'question',\n",
        "    'Answers': 'text',\n",
        "    'AnswerStart': 'answer_start'\n",
        "}\n"
      ]
    },
    {
      "cell_type": "code",
      "execution_count": 3,
      "metadata": {
        "id": "OSbLUmE65n0M"
      },
      "outputs": [],
      "source": [
        "df['CombinedContext'] = df['Description'].fillna('') + \" \" + df['Sub Headings Description'].fillna('')\n"
      ]
    },
    {
      "cell_type": "code",
      "execution_count": 4,
      "metadata": {
        "colab": {
          "base_uri": "https://localhost:8080/"
        },
        "id": "EpGxBuMs7B8y",
        "outputId": "04225e3f-3f27-4fe0-83f4-a7aa2f6c7c37"
      },
      "outputs": [
        {
          "name": "stdout",
          "output_type": "stream",
          "text": [
            "                                         Description  \\\n",
            "0  The BBC Mobile Accessibility Guidelines are a ...   \n",
            "1                                                NaN   \n",
            "2                                                NaN   \n",
            "3                                                NaN   \n",
            "4                                                NaN   \n",
            "\n",
            "                            Sub Headings Description  \\\n",
            "0                                                NaN   \n",
            "1                                                NaN   \n",
            "2                                                NaN   \n",
            "3                                                NaN   \n",
            "4  Alternative delivery formats are essential for...   \n",
            "\n",
            "                                     CombinedContext  \n",
            "0  The BBC Mobile Accessibility Guidelines are a ...  \n",
            "1                                                     \n",
            "2                                                     \n",
            "3                                                     \n",
            "4   Alternative delivery formats are essential fo...  \n"
          ]
        }
      ],
      "source": [
        "print(df[['Description', 'Sub Headings Description', 'CombinedContext']].head())"
      ]
    },
    {
      "cell_type": "code",
      "execution_count": 5,
      "metadata": {
        "id": "v7k9qNCv7QsO"
      },
      "outputs": [],
      "source": [
        "# Group by the 'CombinedContext' column\n",
        "grouped = df.groupby('CombinedContext')\n",
        "\n",
        "data_list = []\n",
        "\n",
        "for combined_context, group in grouped:\n",
        "    qas_list = []\n",
        "    for index, row in group.iterrows():\n",
        "        question = row['Questions']\n",
        "        answer_text = row['Answers']\n",
        "        answer_start = row['CombinedContext'].find(str(answer_text))\n",
        "\n",
        "        qas_dict = {\n",
        "            \"id\": str(index),\n",
        "            \"question\": question,\n",
        "            \"is_impossible\": False if pd.notna(answer_text) and answer_start != -1 else True, \n",
        "            \"answers\": [] if pd.isna(answer_text) or answer_start == -1 else [{\"text\": answer_text, \"answer_start\": answer_start}]\n",
        "        }\n",
        "\n",
        "        qas_list.append(qas_dict)\n",
        "\n",
        "    context_dict = {\n",
        "        \"context\": combined_context,\n",
        "        \"qas\": qas_list\n",
        "    }\n",
        "\n",
        "    data_list.append(context_dict)\n"
      ]
    },
    {
      "cell_type": "code",
      "execution_count": 6,
      "metadata": {
        "id": "_W-Emvrb7kTX"
      },
      "outputs": [],
      "source": [
        "import json\n",
        "\n",
        "# Save the data_list to a JSON file\n",
        "with open('transformed_data.json', 'w') as json_file:\n",
        "    json.dump(data_list, json_file)\n"
      ]
    },
    {
      "cell_type": "code",
      "execution_count": 9,
      "metadata": {
        "id": "p7TPs4rTGEyH"
      },
      "outputs": [],
      "source": [
        "import pandas as pd\n",
        "import json\n",
        "\n",
        "# Load the Excel data\n",
        "df = pd.read_excel('AccessibilityChatbotData.xlsx')\n",
        "\n",
        "# Forward fill for context to handle NaN values\n",
        "df['Sub Headings Description'].fillna(method='ffill', inplace=True)\n",
        "df['Questions'].fillna('', inplace=True)\n",
        "df['Answers'].fillna('', inplace=True)\n",
        "\n",
        "# Group by 'Sub Headings Description' to generate the JSON data structure\n",
        "grouped_df = df.groupby('Sub Headings Description')\n",
        "\n",
        "formatted_data_list = []\n",
        "\n",
        "for context, group in grouped_df:\n",
        "    qas_list = []\n",
        "    for index, row in group.iterrows():\n",
        "        question = row['Questions']\n",
        "        answer_text = row['Answers']\n",
        "\n",
        "        qas_dict = {\n",
        "            \"id\": str(index),\n",
        "            \"question\": question,\n",
        "            \"is_impossible\": False if pd.notna(answer_text) and answer_start != -1 else True,\n",
        "            \"answers\": [{\"text\": answer_text}] if answer_text.strip() else []\n",
        "        }\n",
        "\n",
        "        qas_list.append(qas_dict)\n",
        "\n",
        "    context_dict = {\n",
        "        \"context\": context if context.strip() != \"\" else \"No context provided.\",\n",
        "        \"qas\": qas_list\n",
        "    }\n",
        "    formatted_data_list.append(context_dict)\n",
        "\n",
        "# Save the data list to a JSON file\n",
        "with open(\"output_json_file.json\", 'w') as json_file:\n",
        "    json.dump(formatted_data_list, json_file)\n"
      ]
    }
  ],
  "metadata": {
    "colab": {
      "authorship_tag": "ABX9TyMAlU0cTr3qVWG2J8PzF2Vf",
      "include_colab_link": true,
      "provenance": []
    },
    "kernelspec": {
      "display_name": "Python 3",
      "name": "python3"
    },
    "language_info": {
      "name": "python"
    }
  },
  "nbformat": 4,
  "nbformat_minor": 0
}
